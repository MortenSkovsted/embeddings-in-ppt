{
 "cells": [
  {
   "cell_type": "code",
   "execution_count": 1,
   "metadata": {},
   "outputs": [],
   "source": [
    "import torch\n",
    "import numpy as np"
   ]
  },
  {
   "cell_type": "code",
   "execution_count": 10,
   "metadata": {},
   "outputs": [],
   "source": [
    "\n",
    "\n"
   ]
  },
  {
   "cell_type": "code",
   "execution_count": 13,
   "metadata": {},
   "outputs": [],
   "source": [
    "prediction = torch.load('../hpc-tensors/Best_prediction_1.pt')\n",
    "prediction = torch.cat((prediction,torch.load('../hpc-tensors/Best_prediction_2.pt')),dim=0)\n",
    "prediction = torch.cat((prediction,torch.load('../hpc-tensors/Best_prediction_3.pt')),dim=0)\n",
    "prediction = torch.cat((prediction,torch.load('../hpc-tensors/Best_prediction_4.pt')),dim=0)\n",
    "\n",
    "targets = torch.load('../hpc-tensors/Targes_1.pt')\n",
    "targets = torch.cat((targets,torch.load('../hpc-tensors/Targes_2.pt')),dim=0)\n",
    "targets = torch.cat((targets,torch.load('../hpc-tensors/Targes_3.pt')),dim=0)\n",
    "targets = torch.cat((targets,torch.load('../hpc-tensors/Targes_4.pt')),dim=0)"
   ]
  },
  {
   "cell_type": "code",
   "execution_count": 14,
   "metadata": {},
   "outputs": [
    {
     "name": "stdout",
     "output_type": "stream",
     "text": [
      "torch.Size([21504, 10])\n",
      "torch.Size([21504, 10])\n"
     ]
    }
   ],
   "source": [
    "print(prediction.size())\n",
    "print(targets.size())"
   ]
  },
  {
   "cell_type": "code",
   "execution_count": 22,
   "metadata": {},
   "outputs": [
    {
     "data": {
      "text/plain": [
       "tensor(1864)"
      ]
     },
     "execution_count": 22,
     "metadata": {},
     "output_type": "execute_result"
    }
   ],
   "source": [
    "prediction[:,0:1].sum()"
   ]
  },
  {
   "cell_type": "code",
   "execution_count": 38,
   "metadata": {},
   "outputs": [
    {
     "name": "stdout",
     "output_type": "stream",
     "text": [
      "Pred:\t6663\n",
      "Target:\t7397\n",
      "Pred:\t8878\n",
      "Target:\t7662\n",
      "Pred:\t2808\n",
      "Target:\t2615\n",
      "Pred:\t1841\n",
      "Target:\t1942\n",
      "Pred:\t2634\n",
      "Target:\t3117\n",
      "Pred:\t967\n",
      "Target:\t1469\n",
      "Pred:\t767\n",
      "Target:\t821\n",
      "Pred:\t199\n",
      "Target:\t965\n",
      "Pred:\t83\n",
      "Target:\t1120\n",
      "Pred:\t4\n",
      "Target:\t211\n"
     ]
    }
   ],
   "source": [
    "for i in range(prediction.size()[1]):\n",
    "    print(f'Pred:\\t{prediction[:,i:i+1].sum()}')\n",
    "    print(f'Target:\\t{targets[:,i:i+1].sum()}')"
   ]
  },
  {
   "cell_type": "code",
   "execution_count": 45,
   "metadata": {},
   "outputs": [
    {
     "name": "stdout",
     "output_type": "stream",
     "text": [
      "[[0 0 0 0 0 0 0 0 0 0]\n",
      " [0 0 0 0 0 0 0 0 0 0]\n",
      " [0 0 0 0 0 0 0 0 0 0]\n",
      " [0 0 0 0 0 0 0 0 0 0]]\n",
      "True\n"
     ]
    },
    {
     "data": {
      "text/plain": [
       "array([[ 4862,  5856,  2315,  1347,  1820,   485,   623,   103,    25,\n",
       "            3],\n",
       "       [12306, 10820, 18396, 19068, 17573, 19553, 20539, 20443, 20326,\n",
       "        21292],\n",
       "       [ 1801,  3022,   493,   494,   814,   482,   144,    96,    58,\n",
       "            1],\n",
       "       [ 2535,  1806,   300,   595,  1297,   984,   198,   862,  1095,\n",
       "          208]])"
      ]
     },
     "execution_count": 45,
     "metadata": {},
     "output_type": "execute_result"
    }
   ],
   "source": [
    "confusionmatrix = np.zeros((4,10), dtype=int)\n",
    "print(confusionmatrix)\n",
    "print(prediction.size()[0] == targets.size()[0])\n",
    "\n",
    "# Make a confusionmattix that contains (in rows):\n",
    "# 1. count of number of times each positive label (1) was correctly predicted labels.\n",
    "# 2. count of number of times each negativ label (0) was correctly predicted labels. \n",
    "# 3. the number of time each label was predicted, but was not there\n",
    "# 4. the number of times each label was there, but was not predicted.\n",
    "\n",
    "# This was done of each of the 10 sublocation\n",
    "\n",
    "for i in range(prediction.size()[1]):\n",
    "    for j in range(prediction.size()[0]):\n",
    "        # 1.\n",
    "        if prediction[j,i] == 1 and targets[j,i] == 1:\n",
    "            confusionmatrix[0,i] += 1\n",
    "        # 2.\n",
    "        elif prediction[j,i] == 0 and targets[j,i] == 0:\n",
    "            confusionmatrix[1,i] += 1\n",
    "        # 3.\n",
    "        elif prediction[j,i] == 1 and targets[j,i] == 0:\n",
    "            confusionmatrix[2,i] += 1\n",
    "        elif prediction[j,i] == 0 and targets[j,i] == 1:\n",
    "            confusionmatrix[3,i] += 1\n",
    "\n",
    "confusionmatrix"
   ]
  },
  {
   "cell_type": "code",
   "execution_count": 77,
   "metadata": {},
   "outputs": [
    {
     "name": "stdout",
     "output_type": "stream",
     "text": [
      "4862\t5856\t2315\t1347\t1820\t485\t623\t103\t25\t3\t\n",
      "12306\t10820\t18396\t19068\t17573\t19553\t20539\t20443\t20326\t21292\t\n",
      "1801\t3022\t493\t494\t814\t482\t144\t96\t58\t1\t\n",
      "2535\t1806\t300\t595\t1297\t984\t198\t862\t1095\t208\t\n"
     ]
    }
   ],
   "source": [
    "Highlevel_list = ['Nucleus','Cytoplasm','Extracellular','Mitochondrion','Cell membrane','Endoplasmic reticulum','Plastid','Golgi apparatus','Lysosome/Vacuole','Peroxisome']\n",
    "    \n",
    "#for j in range(len(Highlevel_list)):\n",
    "#    print(Highlevel_list[j],end='\\t')\n",
    "for i in range(4):\n",
    "    for j in range(len(Highlevel_list)):\n",
    "        print(confusionmatrix[i,j],end='\\t')\n",
    "    print()"
   ]
  },
  {
   "cell_type": "code",
   "execution_count": 60,
   "metadata": {},
   "outputs": [
    {
     "name": "stdout",
     "output_type": "stream",
     "text": [
      "4862\t5856\t2315\t1347\t1820\t485\t623\t103\t25\t3\t\n",
      "1801\t3022\t493\t494\t814\t482\t144\t96\t58\t1\t\n",
      "2535\t1806\t300\t595\t1297\t984\t198\t862\t1095\t208\t\n"
     ]
    }
   ],
   "source": [
    "Highlevel_list = ['Nucleus','Cytoplasm','Extracellular','Mitochondrion','Cell membrane','Endoplasmic reticulum','Plastid','Golgi apparatus','Lysosome/Vacuole','Peroxisome']\n",
    "    \n",
    "#for j in range(len(Highlevel_list)):\n",
    "#    print(Highlevel_list[j],end='\\t')\n",
    "for i in [0,2,3]:\n",
    "    for j in range(len(Highlevel_list)):\n",
    "        print(confusionmatrix[i,j],end='\\t')\n",
    "    print()\n",
    "\n",
    "# 1. Correctly predicted to be precent\n",
    "# 2. the number of time each label was predicted, but was not there\n",
    "# 3. the number of times each label was there, but was not predicted."
   ]
  },
  {
   "cell_type": "code",
   "execution_count": 59,
   "metadata": {},
   "outputs": [
    {
     "name": "stdout",
     "output_type": "stream",
     "text": [
      "Nucleus: Cytoplasm: Extracellular: Mitochondrion: Cell membrane: Endoplasmic reticulum: Plastid: Golgi apparatus: Lysosome/Vacuole: Peroxisome: "
     ]
    }
   ],
   "source": [
    "for j in range(len(Highlevel_list)):\n",
    "\n",
    "    print(Highlevel_list[j],end=': ')"
   ]
  },
  {
   "cell_type": "code",
   "execution_count": 63,
   "metadata": {},
   "outputs": [],
   "source": [
    "count_number_pred = []\n",
    "count_number_targets = []\n",
    "for loc_count in range(10):\n",
    "    count_number_pred.append(0)\n",
    "    count_number_targets.append(0)\n",
    "\n",
    "\n",
    "for i in range(prediction.size()[0]):\n",
    "    for loc_count in range(10):\n",
    "        if prediction[i].sum() == loc_count:\n",
    "            count_number_pred[loc_count] += 1\n",
    "        if targets[i].sum() == loc_count:\n",
    "            count_number_targets[loc_count] += 1"
   ]
  },
  {
   "cell_type": "code",
   "execution_count": 64,
   "metadata": {},
   "outputs": [
    {
     "data": {
      "text/plain": [
       "[0, 18166, 3336, 2, 0, 0, 0, 0, 0, 0]"
      ]
     },
     "execution_count": 64,
     "metadata": {},
     "output_type": "execute_result"
    }
   ],
   "source": [
    "count_number_pred"
   ]
  },
  {
   "cell_type": "code",
   "execution_count": 65,
   "metadata": {},
   "outputs": [
    {
     "data": {
      "text/plain": [
       "[0, 16418, 4495, 471, 102, 18, 0, 0, 0, 0]"
      ]
     },
     "execution_count": 65,
     "metadata": {},
     "output_type": "execute_result"
    }
   ],
   "source": [
    "count_number_targets"
   ]
  },
  {
   "cell_type": "code",
   "execution_count": 85,
   "metadata": {},
   "outputs": [
    {
     "name": "stdout",
     "output_type": "stream",
     "text": [
      "Precision\n",
      "0.730\t0.660\t0.824\t0.732\t0.691\t0.502\t0.812\t0.518\t0.301\t0.750\t\n",
      "Recall\n",
      "0.657\t0.764\t0.885\t0.694\t0.584\t0.330\t0.759\t0.107\t0.022\t0.014\t\n",
      "Accuracy\n",
      "0.798\t0.775\t0.963\t0.949\t0.902\t0.932\t0.984\t0.955\t0.946\t0.990\t\n",
      "F1\n",
      "0.692\t0.708\t0.854\t0.712\t0.633\t0.398\t0.785\t0.177\t0.042\t0.028\t"
     ]
    }
   ],
   "source": [
    "print('Precision')\n",
    "for j in range(len(Highlevel_list)):\n",
    "    print(f'{confusionmatrix[0,j]/(confusionmatrix[0,j]+confusionmatrix[2,j]):.3f}',end='\\t')\n",
    "print()\n",
    "print('Recall')\n",
    "for j in range(len(Highlevel_list)):\n",
    "    print(f'{confusionmatrix[0,j]/(confusionmatrix[0,j]+confusionmatrix[3,j]):.3f}',end='\\t')\n",
    "print() \n",
    "print('Accuracy')\n",
    "for j in range(len(Highlevel_list)):\n",
    "    Tp = confusionmatrix[0,j]\n",
    "    Tn = confusionmatrix[1,j]\n",
    "    acc = (Tp+Tn) / (confusionmatrix[:,j].sum())\n",
    "    print(f'{acc:.3f}',end='\\t')\n",
    "    \n",
    "    \n",
    "print() \n",
    "print('F1')\n",
    "for j in range(len(Highlevel_list)):\n",
    "    p = confusionmatrix[0,j]/(confusionmatrix[0,j]+confusionmatrix[2,j])\n",
    "    r = confusionmatrix[0,j]/(confusionmatrix[0,j]+confusionmatrix[3,j])\n",
    "    print(f'{2*p*r/(p+r):.3f}',end='\\t')\n"
   ]
  },
  {
   "cell_type": "code",
   "execution_count": 83,
   "metadata": {},
   "outputs": [
    {
     "data": {
      "text/plain": [
       "array([ 4862, 12306,  1801,  2535])"
      ]
     },
     "execution_count": 83,
     "metadata": {},
     "output_type": "execute_result"
    }
   ],
   "source": [
    "confusionmatrix[:,0]"
   ]
  },
  {
   "cell_type": "code",
   "execution_count": null,
   "metadata": {},
   "outputs": [],
   "source": []
  }
 ],
 "metadata": {
  "kernelspec": {
   "display_name": "Python 3",
   "language": "python",
   "name": "python3"
  },
  "language_info": {
   "codemirror_mode": {
    "name": "ipython",
    "version": 3
   },
   "file_extension": ".py",
   "mimetype": "text/x-python",
   "name": "python",
   "nbconvert_exporter": "python",
   "pygments_lexer": "ipython3",
   "version": "3.7.3"
  }
 },
 "nbformat": 4,
 "nbformat_minor": 2
}
