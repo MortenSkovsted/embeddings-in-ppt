{
 "cells": [
  {
   "cell_type": "code",
   "execution_count": 31,
   "metadata": {},
   "outputs": [],
   "source": [
    "import torch\n",
    "import numpy as np"
   ]
  },
  {
   "cell_type": "code",
   "execution_count": 5,
   "metadata": {},
   "outputs": [],
   "source": [
    "prediction = torch.load('../hpc-tensors/Best_prediction_1.pt')\n",
    "targets = torch.load('../hpc-tensors/Targes_1.pt')\n"
   ]
  },
  {
   "cell_type": "code",
   "execution_count": 23,
   "metadata": {},
   "outputs": [
    {
     "data": {
      "text/plain": [
       "torch.Size([5248, 10])"
      ]
     },
     "execution_count": 23,
     "metadata": {},
     "output_type": "execute_result"
    }
   ],
   "source": [
    "prediction.size()"
   ]
  },
  {
   "cell_type": "code",
   "execution_count": 22,
   "metadata": {},
   "outputs": [
    {
     "data": {
      "text/plain": [
       "tensor(1864)"
      ]
     },
     "execution_count": 22,
     "metadata": {},
     "output_type": "execute_result"
    }
   ],
   "source": [
    "prediction[:,0:1].sum()"
   ]
  },
  {
   "cell_type": "code",
   "execution_count": 30,
   "metadata": {},
   "outputs": [
    {
     "name": "stdout",
     "output_type": "stream",
     "text": [
      "Pred:\t1864\n",
      "Target:\t1880\n",
      "\n",
      "Pred:\t1972\n",
      "Target:\t1718\n",
      "\n",
      "Pred:\t707\n",
      "Target:\t656\n",
      "\n",
      "Pred:\t384\n",
      "Target:\t449\n",
      "\n",
      "Pred:\t686\n",
      "Target:\t745\n",
      "\n",
      "Pred:\t208\n",
      "Target:\t356\n",
      "\n",
      "Pred:\t219\n",
      "Target:\t232\n",
      "\n",
      "Pred:\t38\n",
      "Target:\t239\n",
      "\n",
      "Pred:\t3\n",
      "Target:\t222\n",
      "\n",
      "Pred:\t0\n",
      "Target:\t30\n",
      "\n"
     ]
    }
   ],
   "source": [
    "for i in range(prediction.size()[1]):\n",
    "    print(f'Pred:\\t{prediction[:,i:i+1].sum()}')\n",
    "    print(f'Target:\\t{targets[:,i:i+1].sum()}')\n",
    "    print()"
   ]
  },
  {
   "cell_type": "code",
   "execution_count": 35,
   "metadata": {},
   "outputs": [
    {
     "name": "stdout",
     "output_type": "stream",
     "text": [
      "[[0. 0. 0. 0. 0. 0. 0. 0. 0. 0.]\n",
      " [0. 0. 0. 0. 0. 0. 0. 0. 0. 0.]\n",
      " [0. 0. 0. 0. 0. 0. 0. 0. 0. 0.]\n",
      " [0. 0. 0. 0. 0. 0. 0. 0. 0. 0.]\n",
      " [0. 0. 0. 0. 0. 0. 0. 0. 0. 0.]\n",
      " [0. 0. 0. 0. 0. 0. 0. 0. 0. 0.]\n",
      " [0. 0. 0. 0. 0. 0. 0. 0. 0. 0.]\n",
      " [0. 0. 0. 0. 0. 0. 0. 0. 0. 0.]\n",
      " [0. 0. 0. 0. 0. 0. 0. 0. 0. 0.]\n",
      " [0. 0. 0. 0. 0. 0. 0. 0. 0. 0.]]\n",
      "True\n"
     ]
    },
    {
     "data": {
      "text/plain": [
       "\"\\nfor i in range(prediction.size()[1]):\\n    for j in range(prediction.size()[0]):\\n    print(f'Pred:\\t{prediction[:,i:i+1].sum()}')\\n    print(f'Target:\\t{targets[:,i:i+1].sum()}')\\n    print()\\n\""
      ]
     },
     "execution_count": 35,
     "metadata": {},
     "output_type": "execute_result"
    }
   ],
   "source": [
    "confusionmatrix = np.zeros((10,10))\n",
    "print(confusionmatrix)\n",
    "print(prediction.size()[0] == targets.size()[0])\n",
    "\n",
    "for i in range(prediction.size()[1]):\n",
    "    for j in range(prediction.size()[0]):\n",
    "        if prediction[j:j+1,i:i+1] == 1:\n",
    "            \n",
    "    print(f'Pred:\\t{prediction[:,i:i+1].sum()}')\n",
    "    print(f'Target:\\t{targets[:,i:i+1].sum()}')\n",
    "    print()\n"
   ]
  },
  {
   "cell_type": "code",
   "execution_count": null,
   "metadata": {},
   "outputs": [],
   "source": []
  }
 ],
 "metadata": {
  "kernelspec": {
   "display_name": "Python 3",
   "language": "python",
   "name": "python3"
  },
  "language_info": {
   "codemirror_mode": {
    "name": "ipython",
    "version": 3
   },
   "file_extension": ".py",
   "mimetype": "text/x-python",
   "name": "python",
   "nbconvert_exporter": "python",
   "pygments_lexer": "ipython3",
   "version": "3.7.3"
  }
 },
 "nbformat": 4,
 "nbformat_minor": 2
}
