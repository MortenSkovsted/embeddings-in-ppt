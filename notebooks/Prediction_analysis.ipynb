{
 "cells": [
  {
   "cell_type": "code",
   "execution_count": 66,
   "metadata": {},
   "outputs": [],
   "source": [
    "import torch\n",
    "import numpy as np\n",
    "import matplotlib.pyplot as plt"
   ]
  },
  {
   "cell_type": "code",
   "execution_count": 124,
   "metadata": {},
   "outputs": [
    {
     "data": {
      "text/plain": [
       "tensor([0.1352, 0.1305, 0.3824, 0.5149, 0.3208, 0.6807, 1.2180, 1.0363, 0.8929,\n",
       "        4.7393], dtype=torch.float64)"
      ]
     },
     "execution_count": 124,
     "metadata": {},
     "output_type": "execute_result"
    }
   ],
   "source": [
    "torch.tensor([4,2],dtype=torch.float64)\n",
    "tpl = 1000\n",
    "torch.tensor([tpl/7397, tpl/7662, tpl/2615, tpl/1942, tpl/3117, tpl/1469, tpl/821, tpl/965, tpl/1120, tpl/211],dtype=torch.float64)\n"
   ]
  },
  {
   "cell_type": "code",
   "execution_count": 67,
   "metadata": {},
   "outputs": [
    {
     "name": "stdout",
     "output_type": "stream",
     "text": [
      "torch.Size([5248, 10])\n"
     ]
    }
   ],
   "source": [
    "prediction = torch.load('../hpc-tensors/Best_prediction_1.pt')\n",
    "prediction = torch.cat((prediction,torch.load('../hpc-tensors/Best_prediction_2.pt')),dim=0)\n",
    "prediction = torch.cat((prediction,torch.load('../hpc-tensors/Best_prediction_3.pt')),dim=0)\n",
    "prediction = torch.cat((prediction,torch.load('../hpc-tensors/Best_prediction_4.pt')),dim=0)\n",
    "\n",
    "targets = torch.load('../hpc-tensors/Targes_1.pt')\n",
    "targets = torch.cat((targets,torch.load('../hpc-tensors/Targes_2.pt')),dim=0)\n",
    "targets = torch.cat((targets,torch.load('../hpc-tensors/Targes_3.pt')),dim=0)\n",
    "targets = torch.cat((targets,torch.load('../hpc-tensors/Targes_4.pt')),dim=0)\n",
    "\n",
    "prepredictions = torch.load('../hpc-tensors/Best_postpredictions_1.pt')\n",
    "print(prepredictions.size())\n",
    "prepredictions = torch.cat((prepredictions,torch.load('../hpc-tensors/Best_postpredictions_2.pt')),dim=0)\n",
    "prepredictions = torch.cat((prepredictions,torch.load('../hpc-tensors/Best_postpredictions_3.pt')),dim=0)\n",
    "prepredictions = torch.cat((prepredictions,torch.load('../hpc-tensors/Best_postpredictions_4.pt')),dim=0)\n",
    "\n"
   ]
  },
  {
   "cell_type": "code",
   "execution_count": 118,
   "metadata": {},
   "outputs": [
    {
     "name": "stdout",
     "output_type": "stream",
     "text": [
      "tensor(7397)\n",
      "tensor(7662)\n",
      "tensor(2615)\n",
      "tensor(1942)\n",
      "tensor(3117)\n",
      "tensor(1469)\n",
      "tensor(821)\n",
      "tensor(965)\n",
      "tensor(1120)\n",
      "tensor(211)\n",
      "tensor(27319)\n"
     ]
    }
   ],
   "source": [
    "for index in range(targets.size()[1]):\n",
    "    print(targets[:,index].sum())\n",
    "print(targets.sum())"
   ]
  },
  {
   "cell_type": "code",
   "execution_count": 68,
   "metadata": {},
   "outputs": [
    {
     "name": "stdout",
     "output_type": "stream",
     "text": [
      "torch.Size([21504, 10])\n",
      "torch.Size([21504, 10])\n",
      "torch.Size([21504, 10])\n",
      "tensor([[4.6317e-01, 7.0194e-01, 3.5376e-03,  ..., 6.6159e-02, 8.6449e-02,\n",
      "         2.3258e-03],\n",
      "        [1.6685e-01, 8.2820e-01, 7.0374e-03,  ..., 2.1822e-01, 9.4196e-02,\n",
      "         3.0286e-05],\n",
      "        [1.0480e-01, 8.2496e-01, 6.3242e-03,  ..., 2.0515e-01, 7.4765e-02,\n",
      "         1.2892e-07],\n",
      "        ...,\n",
      "        [6.4046e-01, 3.9636e-01, 6.2294e-03,  ..., 1.8589e-02, 5.1601e-02,\n",
      "         1.0760e-02],\n",
      "        [1.5586e-01, 1.0998e-01, 1.2961e-02,  ..., 2.5984e-01, 2.1526e-02,\n",
      "         1.7091e-05],\n",
      "        [1.0863e-01, 1.2351e-02, 9.9786e-01,  ..., 4.5914e-05, 4.1330e-06,\n",
      "         3.2062e-18]])\n",
      "tensor([[0, 1, 0,  ..., 0, 0, 0],\n",
      "        [0, 1, 0,  ..., 0, 0, 0],\n",
      "        [0, 1, 0,  ..., 0, 0, 0],\n",
      "        ...,\n",
      "        [1, 0, 0,  ..., 0, 0, 0],\n",
      "        [0, 0, 0,  ..., 0, 0, 0],\n",
      "        [0, 0, 1,  ..., 0, 0, 0]], dtype=torch.int32)\n"
     ]
    }
   ],
   "source": [
    "print(prediction.size())\n",
    "print(targets.size())\n",
    "print(prepredictions.size())\n",
    "print(prepredictions)\n",
    "print(prediction)\n",
    "#prepredictions = prepredictions.transpose(0,1)"
   ]
  },
  {
   "cell_type": "code",
   "execution_count": null,
   "metadata": {},
   "outputs": [],
   "source": []
  },
  {
   "cell_type": "code",
   "execution_count": 69,
   "metadata": {},
   "outputs": [
    {
     "data": {
      "text/plain": [
       "3.0595238095238093"
      ]
     },
     "execution_count": 69,
     "metadata": {},
     "output_type": "execute_result"
    }
   ],
   "source": [
    "65792/21504"
   ]
  },
  {
   "cell_type": "code",
   "execution_count": 70,
   "metadata": {},
   "outputs": [
    {
     "name": "stdout",
     "output_type": "stream",
     "text": [
      "Pred:\t6577\n",
      "Target:\t7397\n",
      "Pred:\t8996\n",
      "Target:\t7662\n",
      "Pred:\t2779\n",
      "Target:\t2615\n",
      "Pred:\t1843\n",
      "Target:\t1942\n",
      "Pred:\t2485\n",
      "Target:\t3117\n",
      "Pred:\t1131\n",
      "Target:\t1469\n",
      "Pred:\t769\n",
      "Target:\t821\n",
      "Pred:\t176\n",
      "Target:\t965\n",
      "Pred:\t109\n",
      "Target:\t1120\n",
      "Pred:\t0\n",
      "Target:\t211\n"
     ]
    }
   ],
   "source": [
    "for i in range(prediction.size()[1]):\n",
    "    print(f'Pred:\\t{prediction[:,i:i+1].sum()}')\n",
    "    print(f'Target:\\t{targets[:,i:i+1].sum()}')"
   ]
  },
  {
   "cell_type": "code",
   "execution_count": 71,
   "metadata": {},
   "outputs": [
    {
     "name": "stdout",
     "output_type": "stream",
     "text": [
      "[[0 0 0 0 0 0 0 0 0 0]\n",
      " [0 0 0 0 0 0 0 0 0 0]\n",
      " [0 0 0 0 0 0 0 0 0 0]\n",
      " [0 0 0 0 0 0 0 0 0 0]]\n",
      "True\n"
     ]
    },
    {
     "data": {
      "text/plain": [
       "array([[ 4825,  5896,  2293,  1357,  1767,   542,   626,    92,    23,\n",
       "            0],\n",
       "       [12355, 10742, 18403, 19076, 17669, 19446, 20540, 20455, 20298,\n",
       "        21293],\n",
       "       [ 1752,  3100,   486,   486,   718,   589,   143,    84,    86,\n",
       "            0],\n",
       "       [ 2572,  1766,   322,   585,  1350,   927,   195,   873,  1097,\n",
       "          211]])"
      ]
     },
     "execution_count": 71,
     "metadata": {},
     "output_type": "execute_result"
    }
   ],
   "source": [
    "confusionmatrix = np.zeros((4,10), dtype=int)\n",
    "print(confusionmatrix)\n",
    "print(prediction.size()[0] == targets.size()[0])\n",
    "\n",
    "# Make a confusionmattix that contains (in rows):\n",
    "# 1. count of number of times each positive label (1) was correctly predicted labels.\n",
    "# 2. count of number of times each negativ label (0) was correctly predicted labels. \n",
    "# 3. the number of time each label was predicted, but was not there\n",
    "# 4. the number of times each label was there, but was not predicted.\n",
    "\n",
    "# This was done of each of the 10 sublocation\n",
    "\n",
    "for i in range(prediction.size()[1]):\n",
    "    for j in range(prediction.size()[0]):\n",
    "        # 1.\n",
    "        if prediction[j,i] == 1 and targets[j,i] == 1:\n",
    "            confusionmatrix[0,i] += 1\n",
    "        # 2.\n",
    "        elif prediction[j,i] == 0 and targets[j,i] == 0:\n",
    "            confusionmatrix[1,i] += 1\n",
    "        # 3.\n",
    "        elif prediction[j,i] == 1 and targets[j,i] == 0:\n",
    "            confusionmatrix[2,i] += 1\n",
    "        elif prediction[j,i] == 0 and targets[j,i] == 1:\n",
    "            confusionmatrix[3,i] += 1\n",
    "\n",
    "confusionmatrix"
   ]
  },
  {
   "cell_type": "code",
   "execution_count": 72,
   "metadata": {
    "scrolled": true
   },
   "outputs": [
    {
     "name": "stdout",
     "output_type": "stream",
     "text": [
      "4825\t5896\t2293\t1357\t1767\t542\t626\t92\t23\t0\t\n",
      "12355\t10742\t18403\t19076\t17669\t19446\t20540\t20455\t20298\t21293\t\n",
      "1752\t3100\t486\t486\t718\t589\t143\t84\t86\t0\t\n",
      "2572\t1766\t322\t585\t1350\t927\t195\t873\t1097\t211\t\n"
     ]
    }
   ],
   "source": [
    "Highlevel_list = ['Nucleus','Cytoplasm','Extracellular','Mitochondrion','Cell membrane','Endoplasmic reticulum','Plastid','Golgi apparatus','Lysosome/Vacuole','Peroxisome']\n",
    "    \n",
    "#for j in range(len(Highlevel_list)):\n",
    "#    print(Highlevel_list[j],end='\\t')\n",
    "for i in range(4):\n",
    "    for j in range(len(Highlevel_list)):\n",
    "        print(confusionmatrix[i,j],end='\\t')\n",
    "    print()"
   ]
  },
  {
   "cell_type": "code",
   "execution_count": 73,
   "metadata": {},
   "outputs": [
    {
     "name": "stdout",
     "output_type": "stream",
     "text": [
      "4825\t5896\t2293\t1357\t1767\t542\t626\t92\t23\t0\t\n",
      "1752\t3100\t486\t486\t718\t589\t143\t84\t86\t0\t\n",
      "2572\t1766\t322\t585\t1350\t927\t195\t873\t1097\t211\t\n"
     ]
    }
   ],
   "source": [
    "Highlevel_list = ['Nucleus','Cytoplasm','Extracellular','Mitochondrion','Cell membrane','Endoplasmic reticulum','Plastid','Golgi apparatus','Lysosome/Vacuole','Peroxisome']\n",
    "    \n",
    "#for j in range(len(Highlevel_list)):\n",
    "#    print(Highlevel_list[j],end='\\t')\n",
    "for i in [0,2,3]:\n",
    "    for j in range(len(Highlevel_list)):\n",
    "        print(confusionmatrix[i,j],end='\\t')\n",
    "    print()\n",
    "\n",
    "# 1. Correctly predicted to be precent\n",
    "# 2. the number of time each label was predicted, but was not there\n",
    "# 3. the number of times each label was there, but was not predicted."
   ]
  },
  {
   "cell_type": "code",
   "execution_count": 74,
   "metadata": {},
   "outputs": [
    {
     "data": {
      "text/plain": [
       "10"
      ]
     },
     "execution_count": 74,
     "metadata": {},
     "output_type": "execute_result"
    }
   ],
   "source": [
    "prediction.size()[1]"
   ]
  },
  {
   "cell_type": "code",
   "execution_count": 75,
   "metadata": {},
   "outputs": [
    {
     "name": "stdout",
     "output_type": "stream",
     "text": [
      "[0, 0, 0, 0]\n",
      "[1027, 16274, 2069, 2134]\n"
     ]
    }
   ],
   "source": [
    "confusionmatrix_Nucleus_Cytoplasm = []\n",
    "for i in range(4):\n",
    "    confusionmatrix_Nucleus_Cytoplasm.append(0)\n",
    "print(confusionmatrix_Nucleus_Cytoplasm)   \n",
    "\n",
    "If_predicted = False\n",
    "for j in range(prediction.size()[0]):\n",
    "    # predicted?\n",
    "    If_predicted = False\n",
    "    if prediction[j,0] == 1 and prediction[j,1] == 1:\n",
    "        If_predicted = True\n",
    "        \n",
    "    # Was it there?\n",
    "    if targets[j,0] == 1 and targets[j,1] == 1:\n",
    "        if If_predicted:\n",
    "            confusionmatrix_Nucleus_Cytoplasm[0] += 1 #TP\n",
    "        else:\n",
    "            confusionmatrix_Nucleus_Cytoplasm[2] += 1 #FN\n",
    "    else:\n",
    "        if If_predicted:\n",
    "            confusionmatrix_Nucleus_Cytoplasm[3] += 1 #FP\n",
    "        else:\n",
    "            confusionmatrix_Nucleus_Cytoplasm[1] += 1 #TN\n",
    "print(confusionmatrix_Nucleus_Cytoplasm)"
   ]
  },
  {
   "cell_type": "code",
   "execution_count": 76,
   "metadata": {},
   "outputs": [
    {
     "name": "stdout",
     "output_type": "stream",
     "text": [
      "TP\t4825\t5896\t2293\t1357\t1767\t542\t626\t92\t23\t0\t1027\t\n",
      "TN\t12355\t10742\t18403\t19076\t17669\t19446\t20540\t20455\t20298\t21293\t16274\t\n",
      "FP\t1752\t3100\t486\t486\t718\t589\t143\t84\t86\t0\t2069\t\n",
      "FN\t2572\t1766\t322\t585\t1350\t927\t195\t873\t1097\t211\t2134\t\n"
     ]
    }
   ],
   "source": [
    "# Make a confusionmattix that contains (in rows):\n",
    "# 1. count of number of times each positive label (1) was correctly predicted labels.\n",
    "# 2. count of number of times each negativ label (0) was correctly predicted labels. \n",
    "# 3. the number of time each label was predicted, but was not there\n",
    "# 4. the number of times each label was there, but was not predicted.\n",
    "\n",
    "# This was done of each of the 10 sublocation\n",
    "\n",
    "for i in range(4):\n",
    "    if i == 0:\n",
    "        print('TP',end='\\t')\n",
    "    elif i == 1:\n",
    "        print('TN',end='\\t')\n",
    "    elif i == 2:\n",
    "        print('FP',end='\\t')\n",
    "    elif i == 3:\n",
    "        print('FN',end='\\t')\n",
    "    \n",
    "    for j in range(len(Highlevel_list)):\n",
    "        print(confusionmatrix[i,j],end='\\t')\n",
    "    print(confusionmatrix_Nucleus_Cytoplasm[i],end='\\t')\n",
    "    print()\n"
   ]
  },
  {
   "cell_type": "code",
   "execution_count": 77,
   "metadata": {},
   "outputs": [
    {
     "name": "stdout",
     "output_type": "stream",
     "text": [
      "Nucleus: Cytoplasm: Extracellular: Mitochondrion: Cell membrane: Endoplasmic reticulum: Plastid: Golgi apparatus: Lysosome/Vacuole: Peroxisome: "
     ]
    }
   ],
   "source": [
    "for j in range(len(Highlevel_list)):\n",
    "\n",
    "    print(Highlevel_list[j],end=': ')"
   ]
  },
  {
   "cell_type": "code",
   "execution_count": 78,
   "metadata": {},
   "outputs": [],
   "source": [
    "count_number_pred = []\n",
    "count_number_targets = []\n",
    "for loc_count in range(10):\n",
    "    count_number_pred.append(0)\n",
    "    count_number_targets.append(0)\n",
    "\n",
    "\n",
    "for i in range(prediction.size()[0]):\n",
    "    for loc_count in range(10):\n",
    "        if prediction[i].sum() == loc_count:\n",
    "            count_number_pred[loc_count] += 1\n",
    "        if targets[i].sum() == loc_count:\n",
    "            count_number_targets[loc_count] += 1"
   ]
  },
  {
   "cell_type": "code",
   "execution_count": 79,
   "metadata": {},
   "outputs": [
    {
     "data": {
      "text/plain": [
       "[0, 18143, 3361, 0, 0, 0, 0, 0, 0, 0]"
      ]
     },
     "execution_count": 79,
     "metadata": {},
     "output_type": "execute_result"
    }
   ],
   "source": [
    "count_number_pred"
   ]
  },
  {
   "cell_type": "code",
   "execution_count": 80,
   "metadata": {},
   "outputs": [
    {
     "data": {
      "text/plain": [
       "[0, 16418, 4495, 471, 102, 18, 0, 0, 0, 0]"
      ]
     },
     "execution_count": 80,
     "metadata": {},
     "output_type": "execute_result"
    }
   ],
   "source": [
    "count_number_targets"
   ]
  },
  {
   "cell_type": "code",
   "execution_count": 81,
   "metadata": {},
   "outputs": [
    {
     "name": "stdout",
     "output_type": "stream",
     "text": [
      "Precision\n",
      "0.734\t0.655\t0.825\t0.736\t0.711\t0.479\t0.814\t0.523\t0.211\t"
     ]
    },
    {
     "name": "stderr",
     "output_type": "stream",
     "text": [
      "C:\\Users\\morte\\Anaconda3\\envs\\Master\\lib\\site-packages\\ipykernel_launcher.py:3: RuntimeWarning: invalid value encountered in long_scalars\n",
      "  This is separate from the ipykernel package so we can avoid doing imports until\n"
     ]
    },
    {
     "name": "stdout",
     "output_type": "stream",
     "text": [
      "nan\t\n",
      "Recall\n",
      "0.652\t0.770\t0.877\t0.699\t0.567\t0.369\t0.762\t0.095\t0.021\t0.000\t\n",
      "Accuracy\n",
      "0.799\t0.774\t0.962\t0.950\t0.904\t0.930\t0.984\t0.955\t0.945\t0.990\t\n",
      "F1\n",
      "0.691\t0.708\t0.850\t0.717\t0.631\t0.417\t0.787\t0.161\t0.037\t"
     ]
    },
    {
     "name": "stderr",
     "output_type": "stream",
     "text": [
      "C:\\Users\\morte\\Anaconda3\\envs\\Master\\lib\\site-packages\\ipykernel_launcher.py:20: RuntimeWarning: invalid value encountered in long_scalars\n"
     ]
    },
    {
     "name": "stdout",
     "output_type": "stream",
     "text": [
      "nan\t"
     ]
    }
   ],
   "source": [
    "print('Precision')\n",
    "for j in range(len(Highlevel_list)):\n",
    "    print(f'{confusionmatrix[0,j]/(confusionmatrix[0,j]+confusionmatrix[2,j]):.3f}',end='\\t')\n",
    "print()\n",
    "print('Recall')\n",
    "for j in range(len(Highlevel_list)):\n",
    "    print(f'{confusionmatrix[0,j]/(confusionmatrix[0,j]+confusionmatrix[3,j]):.3f}',end='\\t')\n",
    "print() \n",
    "print('Accuracy')\n",
    "for j in range(len(Highlevel_list)):\n",
    "    Tp = confusionmatrix[0,j]\n",
    "    Tn = confusionmatrix[1,j]\n",
    "    acc = (Tp+Tn) / (confusionmatrix[:,j].sum())\n",
    "    print(f'{acc:.3f}',end='\\t')\n",
    "    \n",
    "    \n",
    "print() \n",
    "print('F1')\n",
    "for j in range(len(Highlevel_list)):\n",
    "    p = confusionmatrix[0,j]/(confusionmatrix[0,j]+confusionmatrix[2,j])\n",
    "    r = confusionmatrix[0,j]/(confusionmatrix[0,j]+confusionmatrix[3,j])\n",
    "    print(f'{2*p*r/(p+r):.3f}',end='\\t')\n"
   ]
  },
  {
   "cell_type": "code",
   "execution_count": 82,
   "metadata": {},
   "outputs": [
    {
     "data": {
      "text/plain": [
       "array([ 4825, 12355,  1752,  2572])"
      ]
     },
     "execution_count": 82,
     "metadata": {},
     "output_type": "execute_result"
    }
   ],
   "source": [
    "Precision\n",
    "0.660\t0.638\t0.677\t0.476\t0.513\t0.245\t0.300\t0.111\t0.102\t0.030\t\n",
    "Recall\n",
    "0.777\t0.809\t0.929\t0.801\t0.709\t0.776\t0.912\t0.734\t0.792\t0.735\t\n",
    "Accuracy\n",
    "0.786\t0.768\t0.938\t0.902\t0.860\t0.822\t0.915\t0.724\t0.624\t0.762\t\n",
    "F1\n",
    "0.714\t0.713\t0.783\t0.597\t0.595\t0.373\t0.451\t0.192\t0.180\t0.057\t\n",
    "\n",
    "\n",
    "confusionmatrix[:,0]"
   ]
  },
  {
   "cell_type": "code",
   "execution_count": 83,
   "metadata": {},
   "outputs": [
    {
     "data": {
      "text/plain": [
       "torch.Size([21504, 10])"
      ]
     },
     "execution_count": 83,
     "metadata": {},
     "output_type": "execute_result"
    }
   ],
   "source": [
    "prepredictions.size()"
   ]
  },
  {
   "cell_type": "code",
   "execution_count": 102,
   "metadata": {},
   "outputs": [],
   "source": [
    "import pylustrator\n",
    "from sklearn.metrics import roc_auc_score, precision_recall_curve, average_precision_score\n",
    "from sklearn.metrics import roc_curve, auc\n"
   ]
  },
  {
   "cell_type": "code",
   "execution_count": 85,
   "metadata": {
    "scrolled": false
   },
   "outputs": [
    {
     "name": "stdout",
     "output_type": "stream",
     "text": [
      "5995\n",
      "(0.20989579641312822, 0.7769365959172637)\n",
      "0.38604096\n",
      "./figue/Nucleus.png\n",
      "6689\n",
      "(0.2538650484034099, 0.8085356303837118)\n",
      "0.41404262\n",
      "./figue/Cytoplasm.png\n",
      "1596\n",
      "(0.06125258086717137, 0.9292543021032504)\n",
      "0.06746229\n",
      "./figue/Extracellular.png\n",
      "1996\n",
      "(0.08756773336059707, 0.8012358393408857)\n",
      "0.12850192\n",
      "./figue/Mitochondrion.png\n",
      "3477\n",
      "(0.11410235492467505, 0.7090150786012192)\n",
      "0.1690034\n",
      "./figue/Cell membrane.png\n",
      "2352\n",
      "(0.1750436735712503, 0.7760381211708646)\n",
      "0.046195935\n",
      "./figue/Endoplasmic reticulum.png\n",
      "890\n",
      "(0.08465889861238698, 0.9123020706455542)\n",
      "0.01522767\n",
      "./figue/Plastid.png\n",
      "1967\n",
      "(0.2768878718535469, 0.7336787564766839)\n",
      "0.0437024\n",
      "./figue/Golgi apparatus.png\n",
      "2286\n",
      "(0.38515502354788067, 0.7919642857142857)\n",
      "0.0381393\n",
      "./figue/Lysosome_Vacuole.png\n",
      "762\n",
      "(0.23777767341379796, 0.7345971563981043)\n",
      "0.007232291\n",
      "./figue/Peroxisome.png\n"
     ]
    },
    {
     "data": {
      "text/plain": [
       "<Figure size 432x288 with 0 Axes>"
      ]
     },
     "metadata": {},
     "output_type": "display_data"
    }
   ],
   "source": [
    "#make AOC graphs for all locations!!!\n",
    "#numpy.random.uniform(low=0.0, high=1.0, size=None)¶\n",
    "#pylustrator.start()\n",
    "#print(prepredictions)\n",
    "#print(targets)\n",
    "Highlevel_list = ['Nucleus','Cytoplasm','Extracellular','Mitochondrion','Cell membrane','Endoplasmic reticulum','Plastid','Golgi apparatus','Lysosome_Vacuole','Peroxisome']\n",
    "tensor_row_length = prepredictions.size()[0]\n",
    "#print(prepredictions)\n",
    "\n",
    "best_thresholds = []\n",
    "for i in range(10):\n",
    "    fpr, tpr, thresholds = roc_curve(targets[:,i],prepredictions[:,i])\n",
    "    #print(AOC[i])\n",
    "    #print(AOC[i][1:])\n",
    "    #print(x)\n",
    "    #plt.plot(x,y, '.')\n",
    "    plt.plot(fpr,tpr,'.')\n",
    "    x = [0,1]\n",
    "    y = [0,1]\n",
    "    plt.plot(x,y)\n",
    "    plt.title(Highlevel_list[i])\n",
    "    plt.figure(1).axes[0].set_facecolor(\"#ffffffff\")\n",
    "    plt.figure(1).axes[0].set_position([0.125000, 0.125000, 0.775000, 0.755000])\n",
    "    plt.figure(1).axes[0].set_xlabel(\"FPR\")\n",
    "    plt.figure(1).axes[0].set_ylabel(\"TPR\")\n",
    "    plt.figure(1).axes[0].spines['right'].set_visible(False)\n",
    "    plt.figure(1).axes[0].spines['top'].set_visible(False)\n",
    "    \n",
    "    ###Find and draw line paralle to digonal\n",
    "    print(len(fpr))\n",
    "    count_number_of_consecutiv_point_with_slope_below_digonal = 0\n",
    "    point_found = False\n",
    "    first = 100\n",
    "    count = 0\n",
    "    for index in range(len(fpr)):\n",
    "        if count < first:\n",
    "            count += 1\n",
    "            pass\n",
    "    \n",
    "        #calc change in x and y over last 5 points    \n",
    "        else:\n",
    "            \n",
    "            delta_x = fpr[index] - fpr[index-first]\n",
    "            delta_y = tpr[index] - tpr[index-first]\n",
    "            if delta_y/delta_x < 1:\n",
    "                print((fpr[index],tpr[index]))\n",
    "                print(thresholds[index])\n",
    "                best_thresholds.append(thresholds[index])\n",
    "                #print(delta_y/delta_x)\n",
    "                a = delta_y/delta_x\n",
    "                b = -(a * fpr[index]) + tpr[index]\n",
    "                #print(b)\n",
    "                #print(a+b)\n",
    "                #print(delta_x)\n",
    "                #print(delta_y)\n",
    "                break\n",
    "    plt.plot(fpr[index],tpr[index],'r+',markersize=15)\n",
    "    x = [0,1]\n",
    "    y = [b,a+b]\n",
    "    plt.plot(x,y)\n",
    "    print(f'./figue/{Highlevel_list[i]}.png')\n",
    "    #plt.set(xlim=(0, 1), ylim=(0, 1))\n",
    "    plt.savefig(f'./figue/{Highlevel_list[i]}.png')\n",
    "    plt.clf()\n",
    "    #break\n",
    "    #print(f'threshold = {threshold}')\n",
    "    #print(((prepredictions[i,:] < threshold).sum().item())/tensor_row_length)\n",
    "\n"
   ]
  },
  {
   "cell_type": "markdown",
   "metadata": {},
   "source": [
    "\n",
    "\n"
   ]
  },
  {
   "cell_type": "markdown",
   "metadata": {},
   "source": [
    "<img src=\"./figue/Nucleus.png\">\n",
    "<img src=\"./figue/Cytoplasm.png\">\n",
    "<img src=\"./figue/Extracellular.png\">\n",
    "<img src=\"./figue/Mitochondrion.png\">\n",
    "<img src=\"./figue/Cell membrane.png\">\n",
    "<img src=\"./figue/Endoplasmic reticulum.png\">\n",
    "<img src=\"./figue/Plastid.png\">\n",
    "<img src=\"./figue/Golgi apparatus.png\">\n",
    "<img src=\"./figue/Lysosome_Vacuole.png\">\n",
    "<img src=\"./figue/Peroxisome.png\">"
   ]
  },
  {
   "cell_type": "code",
   "execution_count": 86,
   "metadata": {},
   "outputs": [
    {
     "data": {
      "text/plain": [
       "[0.38604096,\n",
       " 0.41404262,\n",
       " 0.06746229,\n",
       " 0.12850192,\n",
       " 0.1690034,\n",
       " 0.046195935,\n",
       " 0.01522767,\n",
       " 0.0437024,\n",
       " 0.0381393,\n",
       " 0.007232291]"
      ]
     },
     "execution_count": 86,
     "metadata": {},
     "output_type": "execute_result"
    }
   ],
   "source": [
    "best_thresholds"
   ]
  },
  {
   "cell_type": "code",
   "execution_count": 87,
   "metadata": {},
   "outputs": [
    {
     "data": {
      "text/plain": [
       "torch.Size([21504, 10])"
      ]
     },
     "execution_count": 87,
     "metadata": {},
     "output_type": "execute_result"
    }
   ],
   "source": [
    "prepredictions.size()"
   ]
  },
  {
   "cell_type": "code",
   "execution_count": 88,
   "metadata": {},
   "outputs": [],
   "source": [
    "Predic_new_threshold = torch.empty(prepredictions.size())"
   ]
  },
  {
   "cell_type": "code",
   "execution_count": 89,
   "metadata": {},
   "outputs": [],
   "source": [
    "def Pred_with_threshold(tensor_row_input, threshold_list, tensor_row_output):\n",
    "    Noneprediction = True\n",
    "    distance_from_threshold = []   #only used if Noneprediction = True\n",
    "    for index in range(len(threshold_list)):\n",
    "        if tensor_row_input[index] > threshold_list[index]:\n",
    "            tensor_row_output[index] = 1\n",
    "            Noneprediction = False\n",
    "        else:\n",
    "            tensor_row_output[index] = 0\n",
    "            distance_from_threshold.append(threshold_list[index] - tensor_row_input[index])\n",
    "    if Noneprediction:\n",
    "        tensor_row_output[distance_from_threshold.index(min(distance_from_threshold))] = 1\n",
    "        return tensor_row_output\n",
    "    else:\n",
    "        return tensor_row_output     \n",
    "        \n",
    "    "
   ]
  },
  {
   "cell_type": "code",
   "execution_count": 90,
   "metadata": {},
   "outputs": [],
   "source": [
    "for index in range(prepredictions.size()[0]):\n",
    "    Predic_new_threshold[index,:] = Pred_with_threshold(prepredictions[index,:], best_thresholds, Predic_new_threshold[index,:])"
   ]
  },
  {
   "cell_type": "code",
   "execution_count": 91,
   "metadata": {},
   "outputs": [
    {
     "data": {
      "text/plain": [
       "tensor([[1., 1., 0.,  ..., 1., 1., 0.],\n",
       "        [0., 1., 0.,  ..., 1., 1., 0.],\n",
       "        [0., 1., 0.,  ..., 1., 1., 0.],\n",
       "        ...,\n",
       "        [1., 0., 0.,  ..., 0., 1., 1.],\n",
       "        [0., 0., 0.,  ..., 1., 0., 0.],\n",
       "        [0., 0., 1.,  ..., 0., 0., 0.]])"
      ]
     },
     "execution_count": 91,
     "metadata": {},
     "output_type": "execute_result"
    }
   ],
   "source": [
    "Predic_new_threshold"
   ]
  },
  {
   "cell_type": "code",
   "execution_count": 92,
   "metadata": {},
   "outputs": [
    {
     "name": "stdout",
     "output_type": "stream",
     "text": [
      "[[0 0 0 0 0 0 0 0 0 0]\n",
      " [0 0 0 0 0 0 0 0 0 0]\n",
      " [0 0 0 0 0 0 0 0 0 0]\n",
      " [0 0 0 0 0 0 0 0 0 0]]\n",
      "True\n"
     ]
    },
    {
     "data": {
      "text/plain": [
       "array([[ 5747,  6195,  2429,  1556,  2210,  1140,   749,   708,   887,\n",
       "          155],\n",
       "       [11147, 10329, 17732, 17850, 16290, 16529, 18933, 14853, 12535,\n",
       "        16231],\n",
       "       [ 2960,  3513,  1157,  1712,  2097,  3506,  1750,  5686,  7849,\n",
       "         5062],\n",
       "       [ 1650,  1467,   186,   386,   907,   329,    72,   257,   233,\n",
       "           56]])"
      ]
     },
     "execution_count": 92,
     "metadata": {},
     "output_type": "execute_result"
    }
   ],
   "source": [
    "confusionmatrix = np.zeros((4,10), dtype=int)\n",
    "print(confusionmatrix)\n",
    "print(prediction.size()[0] == targets.size()[0])\n",
    "\n",
    "# Make a confusionmattix that contains (in rows):\n",
    "# 1. count of number of times each positive label (1) was correctly predicted labels.\n",
    "# 2. count of number of times each negativ label (0) was correctly predicted labels. \n",
    "# 3. the number of time each label was predicted, but was not there\n",
    "# 4. the number of times each label was there, but was not predicted.\n",
    "\n",
    "# This was done of each of the 10 sublocation\n",
    "\n",
    "for i in range(prediction.size()[1]):\n",
    "    for j in range(prediction.size()[0]):\n",
    "        # 1.\n",
    "        if Predic_new_threshold[j,i] == 1 and targets[j,i] == 1:\n",
    "            confusionmatrix[0,i] += 1\n",
    "        # 2.\n",
    "        elif Predic_new_threshold[j,i] == 0 and targets[j,i] == 0:\n",
    "            confusionmatrix[1,i] += 1\n",
    "        # 3.\n",
    "        elif Predic_new_threshold[j,i] == 1 and targets[j,i] == 0:\n",
    "            confusionmatrix[2,i] += 1\n",
    "        elif Predic_new_threshold[j,i] == 0 and targets[j,i] == 1:\n",
    "            confusionmatrix[3,i] += 1\n",
    "\n",
    "confusionmatrix"
   ]
  },
  {
   "cell_type": "code",
   "execution_count": 93,
   "metadata": {},
   "outputs": [
    {
     "name": "stdout",
     "output_type": "stream",
     "text": [
      "TP\t5747\t6195\t2429\t1556\t2210\t1140\t749\t708\t887\t155\t\n",
      "TN\t11147\t10329\t17732\t17850\t16290\t16529\t18933\t14853\t12535\t16231\t\n",
      "FP\t2960\t3513\t1157\t1712\t2097\t3506\t1750\t5686\t7849\t5062\t\n",
      "FN\t1650\t1467\t186\t386\t907\t329\t72\t257\t233\t56\t\n"
     ]
    }
   ],
   "source": [
    "# Make a confusionmattix that contains (in rows):\n",
    "# 1. count of number of times each positive label (1) was correctly predicted labels.\n",
    "# 2. count of number of times each negativ label (0) was correctly predicted labels. \n",
    "# 3. the number of time each label was predicted, but was not there\n",
    "# 4. the number of times each label was there, but was not predicted.\n",
    "\n",
    "# This was done of each of the 10 sublocation\n",
    "\n",
    "for i in range(4):\n",
    "    if i == 0:\n",
    "        print('TP',end='\\t')\n",
    "    elif i == 1:\n",
    "        print('TN',end='\\t')\n",
    "    elif i == 2:\n",
    "        print('FP',end='\\t')\n",
    "    elif i == 3:\n",
    "        print('FN',end='\\t')\n",
    "    \n",
    "    for j in range(len(Highlevel_list)):\n",
    "        print(confusionmatrix[i,j],end='\\t')\n",
    "    #print(confusionmatrix_Nucleus_Cytoplasm[i],end='\\t')\n",
    "    print()"
   ]
  },
  {
   "cell_type": "code",
   "execution_count": 94,
   "metadata": {},
   "outputs": [
    {
     "name": "stdout",
     "output_type": "stream",
     "text": [
      "Precision\n",
      "0.660\t0.638\t0.677\t0.476\t0.513\t0.245\t0.300\t0.111\t0.102\t0.030\t\n",
      "Recall\n",
      "0.777\t0.809\t0.929\t0.801\t0.709\t0.776\t0.912\t0.734\t0.792\t0.735\t\n",
      "Accuracy\n",
      "0.786\t0.768\t0.938\t0.902\t0.860\t0.822\t0.915\t0.724\t0.624\t0.762\t\n",
      "F1\n",
      "0.714\t0.713\t0.783\t0.597\t0.595\t0.373\t0.451\t0.192\t0.180\t0.057\t"
     ]
    }
   ],
   "source": [
    "print('Precision')\n",
    "for j in range(len(Highlevel_list)):\n",
    "    print(f'{confusionmatrix[0,j]/(confusionmatrix[0,j]+confusionmatrix[2,j]):.3f}',end='\\t')\n",
    "print()\n",
    "print('Recall')\n",
    "for j in range(len(Highlevel_list)):\n",
    "    print(f'{confusionmatrix[0,j]/(confusionmatrix[0,j]+confusionmatrix[3,j]):.3f}',end='\\t')\n",
    "print() \n",
    "print('Accuracy')\n",
    "for j in range(len(Highlevel_list)):\n",
    "    Tp = confusionmatrix[0,j]\n",
    "    Tn = confusionmatrix[1,j]\n",
    "    acc = (Tp+Tn) / (confusionmatrix[:,j].sum())\n",
    "    print(f'{acc:.3f}',end='\\t')\n",
    "    \n",
    "    \n",
    "print() \n",
    "print('F1')\n",
    "for j in range(len(Highlevel_list)):\n",
    "    p = confusionmatrix[0,j]/(confusionmatrix[0,j]+confusionmatrix[2,j])\n",
    "    r = confusionmatrix[0,j]/(confusionmatrix[0,j]+confusionmatrix[3,j])\n",
    "    print(f'{2*p*r/(p+r):.3f}',end='\\t')"
   ]
  },
  {
   "cell_type": "code",
   "execution_count": 95,
   "metadata": {},
   "outputs": [
    {
     "ename": "ValueError",
     "evalue": "multilabel-indicator format is not supported",
     "output_type": "error",
     "traceback": [
      "\u001b[1;31m---------------------------------------------------------------------------\u001b[0m",
      "\u001b[1;31mValueError\u001b[0m                                Traceback (most recent call last)",
      "\u001b[1;32m<ipython-input-95-26a215d9f45d>\u001b[0m in \u001b[0;36m<module>\u001b[1;34m\u001b[0m\n\u001b[1;32m----> 1\u001b[1;33m \u001b[0mprecision_recall_curve\u001b[0m\u001b[1;33m(\u001b[0m\u001b[0mtargets\u001b[0m\u001b[1;33m,\u001b[0m\u001b[0mprepredictions\u001b[0m\u001b[1;33m)\u001b[0m\u001b[1;33m\u001b[0m\u001b[1;33m\u001b[0m\u001b[0m\n\u001b[0m",
      "\u001b[1;32m~\\Anaconda3\\envs\\Master\\lib\\site-packages\\sklearn\\metrics\\ranking.py\u001b[0m in \u001b[0;36mprecision_recall_curve\u001b[1;34m(y_true, probas_pred, pos_label, sample_weight)\u001b[0m\n\u001b[0;32m    522\u001b[0m     fps, tps, thresholds = _binary_clf_curve(y_true, probas_pred,\n\u001b[0;32m    523\u001b[0m                                              \u001b[0mpos_label\u001b[0m\u001b[1;33m=\u001b[0m\u001b[0mpos_label\u001b[0m\u001b[1;33m,\u001b[0m\u001b[1;33m\u001b[0m\u001b[1;33m\u001b[0m\u001b[0m\n\u001b[1;32m--> 524\u001b[1;33m                                              sample_weight=sample_weight)\n\u001b[0m\u001b[0;32m    525\u001b[0m \u001b[1;33m\u001b[0m\u001b[0m\n\u001b[0;32m    526\u001b[0m     \u001b[0mprecision\u001b[0m \u001b[1;33m=\u001b[0m \u001b[0mtps\u001b[0m \u001b[1;33m/\u001b[0m \u001b[1;33m(\u001b[0m\u001b[0mtps\u001b[0m \u001b[1;33m+\u001b[0m \u001b[0mfps\u001b[0m\u001b[1;33m)\u001b[0m\u001b[1;33m\u001b[0m\u001b[1;33m\u001b[0m\u001b[0m\n",
      "\u001b[1;32m~\\Anaconda3\\envs\\Master\\lib\\site-packages\\sklearn\\metrics\\ranking.py\u001b[0m in \u001b[0;36m_binary_clf_curve\u001b[1;34m(y_true, y_score, pos_label, sample_weight)\u001b[0m\n\u001b[0;32m    394\u001b[0m     if not (y_type == \"binary\" or\n\u001b[0;32m    395\u001b[0m             (y_type == \"multiclass\" and pos_label is not None)):\n\u001b[1;32m--> 396\u001b[1;33m         \u001b[1;32mraise\u001b[0m \u001b[0mValueError\u001b[0m\u001b[1;33m(\u001b[0m\u001b[1;34m\"{0} format is not supported\"\u001b[0m\u001b[1;33m.\u001b[0m\u001b[0mformat\u001b[0m\u001b[1;33m(\u001b[0m\u001b[0my_type\u001b[0m\u001b[1;33m)\u001b[0m\u001b[1;33m)\u001b[0m\u001b[1;33m\u001b[0m\u001b[1;33m\u001b[0m\u001b[0m\n\u001b[0m\u001b[0;32m    397\u001b[0m \u001b[1;33m\u001b[0m\u001b[0m\n\u001b[0;32m    398\u001b[0m     \u001b[0mcheck_consistent_length\u001b[0m\u001b[1;33m(\u001b[0m\u001b[0my_true\u001b[0m\u001b[1;33m,\u001b[0m \u001b[0my_score\u001b[0m\u001b[1;33m,\u001b[0m \u001b[0msample_weight\u001b[0m\u001b[1;33m)\u001b[0m\u001b[1;33m\u001b[0m\u001b[1;33m\u001b[0m\u001b[0m\n",
      "\u001b[1;31mValueError\u001b[0m: multilabel-indicator format is not supported"
     ]
    }
   ],
   "source": [
    "precision_recall_curve(targets,prepredictions)"
   ]
  },
  {
   "cell_type": "code",
   "execution_count": null,
   "metadata": {},
   "outputs": [],
   "source": [
    "#https://scikit-learn.org/stable/auto_examples/model_selection/plot_precision_recall.html\n",
    "'''\n",
    "# For each class\n",
    "precision = dict()\n",
    "recall = dict()\n",
    "average_precision = dict()\n",
    "for i in range(n_classes):\n",
    "    precision[i], recall[i], _ = precision_recall_curve(Y_test[:, i],\n",
    "                                                        y_score[:, i])\n",
    "    average_precision[i] = average_precision_score(Y_test[:, i], y_score[:, i])\n",
    "\n",
    "# A \"micro-average\": quantifying score on all classes jointly\n",
    "precision[\"micro\"], recall[\"micro\"], _ = precision_recall_curve(Y_test.ravel(),\n",
    "    y_score.ravel())\n",
    "average_precision[\"micro\"] = average_precision_score(Y_test, y_score,\n",
    "                                                     average=\"micro\")\n",
    "print('Average precision score, micro-averaged over all classes: {0:0.2f}'\n",
    "      .format(average_precision[\"micro\"]))\n",
    "'''"
   ]
  },
  {
   "cell_type": "code",
   "execution_count": 114,
   "metadata": {},
   "outputs": [
    {
     "data": {
      "text/plain": [
       "<Figure size 432x288 with 0 Axes>"
      ]
     },
     "metadata": {},
     "output_type": "display_data"
    }
   ],
   "source": [
    "precision = dict()\n",
    "recall = dict()\n",
    "average_precision = dict()\n",
    "\n",
    "for i in range(targets.size()[1]):\n",
    "    precision[Highlevel_list[i]], recall[Highlevel_list[i]], _ = precision_recall_curve(targets[:, i],\n",
    "                                                        prepredictions[:, i])\n",
    "    average_precision[Highlevel_list[i]] = average_precision_score(targets[:, i], prepredictions[:, i])\n",
    "    \n",
    "    plt.title(Highlevel_list[i])\n",
    "    plt.plot(recall[Highlevel_list[i]],precision[Highlevel_list[i]])\n",
    "    plt.figure(1).axes[0].set_xlabel(\"Recall\")\n",
    "    plt.figure(1).axes[0].set_ylabel(\"Precision\")\n",
    "    plt.savefig(f'./figue/{Highlevel_list[i]}Precision_Recall.png')\n",
    "    plt.clf()"
   ]
  },
  {
   "cell_type": "markdown",
   "metadata": {},
   "source": [
    "Nucleus','Cytoplasm','Extracellular','Mitochondrion','Cell membrane','Endoplasmic reticulum','Plastid','Golgi apparatus','Lysosome_Vacuole','Peroxisome'\n",
    "\n",
    "<img src=\"./figue/NucleusPrecision_Recall.png\">\n",
    "<img src=\"./figue/CytoplasmPrecision_Recall.png\">\n",
    "<img src=\"./figue/ExtracellularPrecision_Recall.png\">\n",
    "<img src=\"./figue/MitochondrionPrecision_Recall.png\">\n",
    "<img src=\"./figue/Cell membranePrecision_Recall.png\">\n",
    "<img src=\"./figue/Endoplasmic reticulumPrecision_Recall.png\">\n",
    "<img src=\"./figue/PlastidPrecision_Recall.png\">\n",
    "<img src=\"./figue/Golgi apparatusPrecision_Recall.png\">\n",
    "<img src=\"./figue/Lysosome_VacuolePrecision_Recall.png\">\n",
    "<img src=\"./figue/PeroxisomePrecision_Recall.png\">\n"
   ]
  },
  {
   "cell_type": "code",
   "execution_count": null,
   "metadata": {},
   "outputs": [],
   "source": []
  },
  {
   "cell_type": "code",
   "execution_count": null,
   "metadata": {},
   "outputs": [],
   "source": []
  },
  {
   "cell_type": "code",
   "execution_count": null,
   "metadata": {},
   "outputs": [],
   "source": []
  }
 ],
 "metadata": {
  "kernelspec": {
   "display_name": "Python 3",
   "language": "python",
   "name": "python3"
  },
  "language_info": {
   "codemirror_mode": {
    "name": "ipython",
    "version": 3
   },
   "file_extension": ".py",
   "mimetype": "text/x-python",
   "name": "python",
   "nbconvert_exporter": "python",
   "pygments_lexer": "ipython3",
   "version": "3.7.3"
  }
 },
 "nbformat": 4,
 "nbformat_minor": 2
}
